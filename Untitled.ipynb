{
 "cells": [
  {
   "cell_type": "code",
   "execution_count": 2,
   "metadata": {},
   "outputs": [],
   "source": [
    "from youtubesearchpython import VideosSearch"
   ]
  },
  {
   "cell_type": "code",
   "execution_count": 30,
   "metadata": {},
   "outputs": [
    {
     "data": {
      "text/plain": [
       "{'result': [{'type': 'video',\n",
       "   'id': 'u4oJhHvqbpo',\n",
       "   'title': 'Touhou Bad Apple   #AMV',\n",
       "   'publishedTime': '1 year ago',\n",
       "   'duration': '3:08',\n",
       "   'viewCount': {'text': '9,317 views', 'short': '9.3K views'},\n",
       "   'thumbnails': [{'url': 'https://i.ytimg.com/vi/u4oJhHvqbpo/hqdefault.jpg?sqp=-oaymwEjCOADEI4CSFryq4qpAxUIARUAAAAAGAElAADIQj0AgKJDeAE=&rs=AOn4CLBRlf6dgJdsNUqpc6NUKE-LCfJ0tA',\n",
       "     'width': 480,\n",
       "     'height': 270}],\n",
       "   'descriptionSnippet': [{'text': 'make https://www.youtube.com/user/Caaamiuke.'}],\n",
       "   'channel': {'name': 'Anime Hxske',\n",
       "    'id': 'UC8wDtlarAES-rHmw1T67ACw',\n",
       "    'thumbnails': [{'url': 'https://yt3.ggpht.com/ytc/AAUvwnhxhqwl2Oaa_U6jWqb6jXKH_3rn8eUjT7UrrX4P=s68-c-k-c0x00ffffff-no-rj',\n",
       "      'width': 68,\n",
       "      'height': 68}],\n",
       "    'link': 'https://www.youtube.com/channel/UC8wDtlarAES-rHmw1T67ACw'},\n",
       "   'accessibility': {'title': 'Touhou Bad Apple   #AMV by Anime Hxske 1 year ago 3 minutes, 8 seconds 9,317 views',\n",
       "    'duration': '3 minutes, 8 seconds'},\n",
       "   'link': 'https://www.youtube.com/watch?v=u4oJhHvqbpo',\n",
       "   'shelfTitle': None}]}"
      ]
     },
     "execution_count": 30,
     "metadata": {},
     "output_type": "execute_result"
    }
   ],
   "source": [
    "videosSearch = VideosSearch('Touhou Bad Apple #AMV', limit = 1)\n",
    "\n",
    "videosSearch.result()"
   ]
  },
  {
   "cell_type": "code",
   "execution_count": 38,
   "metadata": {},
   "outputs": [
    {
     "data": {
      "text/plain": [
       "'https://i.ytimg.com/vi/u4oJhHvqbpo/hqdefault.jpg?sqp=-oaymwEjCOADEI4CSFryq4qpAxUIARUAAAAAGAElAADIQj0AgKJDeAE=&rs=AOn4CLBRlf6dgJdsNUqpc6NUKE-LCfJ0tA'"
      ]
     },
     "execution_count": 38,
     "metadata": {},
     "output_type": "execute_result"
    }
   ],
   "source": [
    "video_link = videosSearch.result()[\"result\"][0][\"link\"]\n",
    "video_thumbnails = videosSearch.result()[\"result\"][0][\"thumbnails\"][0][\"url\"]\n",
    "video_title = videosSearch.result()[\"result\"][0][\"title\"]\n",
    "video_duration = videosSearch.result()[\"result\"][0][\"duration\"]\n",
    "video_publishedTime = videosSearch.result()[\"result\"][0][\"publishedTime\"]\n",
    "video_viewCount = videosSearch.result()[\"result\"][0][\"viewCount\"][\"short\"]\n",
    "video_channel_name = videosSearch.result()[\"result\"][0][\"channel\"][\"name\"]\n",
    "video_channel_thumbnails = videosSearch.result()[\"result\"][0][\"channel\"][\"thumbnails\"][0][\"url\"]\n",
    "\n",
    "video_thumbnails"
   ]
  },
  {
   "cell_type": "code",
   "execution_count": null,
   "metadata": {},
   "outputs": [],
   "source": []
  }
 ],
 "metadata": {
  "kernelspec": {
   "display_name": "Python 3",
   "language": "python",
   "name": "python3"
  },
  "language_info": {
   "codemirror_mode": {
    "name": "ipython",
    "version": 3
   },
   "file_extension": ".py",
   "mimetype": "text/x-python",
   "name": "python",
   "nbconvert_exporter": "python",
   "pygments_lexer": "ipython3",
   "version": "3.7.6"
  }
 },
 "nbformat": 4,
 "nbformat_minor": 4
}
