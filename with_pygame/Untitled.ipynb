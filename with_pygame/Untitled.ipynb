{
 "cells": [
  {
   "cell_type": "code",
   "execution_count": 1,
   "metadata": {},
   "outputs": [],
   "source": [
    "from youtubesearchpython import VideosSearch"
   ]
  },
  {
   "cell_type": "code",
   "execution_count": 2,
   "metadata": {},
   "outputs": [
    {
     "data": {
      "text/plain": [
       "{'result': [{'type': 'video',\n",
       "   'id': 'u4oJhHvqbpo',\n",
       "   'title': 'Touhou Bad Apple   #AMV',\n",
       "   'publishedTime': '1 year ago',\n",
       "   'duration': '3:08',\n",
       "   'viewCount': {'text': '9,317 views', 'short': '9.3K views'},\n",
       "   'thumbnails': [{'url': 'https://i.ytimg.com/vi/u4oJhHvqbpo/hqdefault.jpg?sqp=-oaymwEjCOADEI4CSFryq4qpAxUIARUAAAAAGAElAADIQj0AgKJDeAE=&rs=AOn4CLBRlf6dgJdsNUqpc6NUKE-LCfJ0tA',\n",
       "     'width': 480,\n",
       "     'height': 270}],\n",
       "   'descriptionSnippet': [{'text': 'make https://www.youtube.com/user/Caaamiuke.'}],\n",
       "   'channel': {'name': 'Anime Hxske',\n",
       "    'id': 'UC8wDtlarAES-rHmw1T67ACw',\n",
       "    'thumbnails': [{'url': 'https://yt3.ggpht.com/ytc/AAUvwnhxhqwl2Oaa_U6jWqb6jXKH_3rn8eUjT7UrrX4P=s68-c-k-c0x00ffffff-no-rj',\n",
       "      'width': 68,\n",
       "      'height': 68}],\n",
       "    'link': 'https://www.youtube.com/channel/UC8wDtlarAES-rHmw1T67ACw'},\n",
       "   'accessibility': {'title': 'Touhou Bad Apple   #AMV by Anime Hxske 1 year ago 3 minutes, 8 seconds 9,317 views',\n",
       "    'duration': '3 minutes, 8 seconds'},\n",
       "   'link': 'https://www.youtube.com/watch?v=u4oJhHvqbpo',\n",
       "   'shelfTitle': None}]}"
      ]
     },
     "execution_count": 2,
     "metadata": {},
     "output_type": "execute_result"
    }
   ],
   "source": [
    "videosSearch = VideosSearch('Touhou Bad Apple #AMV', limit = 1)\n",
    "\n",
    "videosSearch.result()"
   ]
  },
  {
   "cell_type": "code",
   "execution_count": 3,
   "metadata": {},
   "outputs": [
    {
     "data": {
      "text/plain": [
       "'https://i.ytimg.com/vi/u4oJhHvqbpo/hqdefault.jpg?sqp=-oaymwEjCOADEI4CSFryq4qpAxUIARUAAAAAGAElAADIQj0AgKJDeAE=&rs=AOn4CLBRlf6dgJdsNUqpc6NUKE-LCfJ0tA'"
      ]
     },
     "execution_count": 3,
     "metadata": {},
     "output_type": "execute_result"
    }
   ],
   "source": [
    "video_link = videosSearch.result()[\"result\"][0][\"link\"]\n",
    "video_thumbnails = videosSearch.result()[\"result\"][0][\"thumbnails\"][0][\"url\"]\n",
    "video_title = videosSearch.result()[\"result\"][0][\"title\"]\n",
    "video_duration = videosSearch.result()[\"result\"][0][\"duration\"]\n",
    "video_publishedTime = videosSearch.result()[\"result\"][0][\"publishedTime\"]\n",
    "video_viewCount = videosSearch.result()[\"result\"][0][\"viewCount\"][\"short\"]\n",
    "video_channel_name = videosSearch.result()[\"result\"][0][\"channel\"][\"name\"]\n",
    "video_channel_thumbnails = videosSearch.result()[\"result\"][0][\"channel\"][\"thumbnails\"][0][\"url\"]\n",
    "\n",
    "video_thumbnails"
   ]
  },
  {
   "cell_type": "code",
   "execution_count": 4,
   "metadata": {},
   "outputs": [
    {
     "name": "stdout",
     "output_type": "stream",
     "text": [
      "Requirement already satisfied: opencv-python in c:\\programdata\\anaconda3\\lib\\site-packages (4.5.1.48)\n",
      "Requirement already satisfied: numpy>=1.17.3 in c:\\programdata\\anaconda3\\lib\\site-packages (from opencv-python) (1.19.2)\n",
      "Note: you may need to restart the kernel to use updated packages.\n"
     ]
    }
   ],
   "source": [
    "pip install opencv-python"
   ]
  },
  {
   "cell_type": "code",
   "execution_count": 5,
   "metadata": {},
   "outputs": [],
   "source": [
    "import pafy\n",
    "import cv2"
   ]
  },
  {
   "cell_type": "code",
   "execution_count": 6,
   "metadata": {},
   "outputs": [
    {
     "data": {
      "text/plain": [
       "'https://r2---sn-25glenes.googlevideo.com/videoplayback?expire=1615108754&ei=MkZEYKLOJLuOxN8PlZaziAQ&ip=46.193.67.16&id=o-AD9Df8CvGwJqo7fIZexSuw89tGrYIzu3jI_an-wuG3ik&itag=22&source=youtube&requiressl=yes&mh=QI&mm=31%2C26&mn=sn-25glenes%2Csn-h5qzen7d&ms=au%2Conr&mv=m&mvi=2&pl=26&initcwndbps=1536250&vprv=1&mime=video%2Fmp4&ns=3HbVhQ-Fzi89tFjprcOMcwIF&cnr=14&ratebypass=yes&dur=187.059&lmt=1577469147225832&mt=1615087010&fvip=2&fexp=24007246&c=WEB&txp=6211222&n=4kXtCt45szoRo8v6Mf&sparams=expire%2Cei%2Cip%2Cid%2Citag%2Csource%2Crequiressl%2Cvprv%2Cmime%2Cns%2Ccnr%2Cratebypass%2Cdur%2Clmt&sig=AOq0QJ8wRQIgb7cW4h7_NTC669PHdH6cSoJBmAeJmyp-CLYyjc6g8SICIQDt4ZBEaeP4oCogQqWGGyuz5y_5aKjBovAtF2LkInlESw%3D%3D&lsparams=mh%2Cmm%2Cmn%2Cms%2Cmv%2Cmvi%2Cpl%2Cinitcwndbps&lsig=AG3C_xAwRgIhAIvJFSrQuPsQ3FHyYJpOVBC2VJTpwvlf7FUrvMD_entvAiEA2DLvXupLACExnwlLIQGpbUUFy2UrfPoqt7JXf-JhzXQ%3D'"
      ]
     },
     "execution_count": 6,
     "metadata": {},
     "output_type": "execute_result"
    }
   ],
   "source": [
    "video = pafy.new(video_link)\n",
    "best = video.getbest()\n",
    "playurl = best.url\n",
    "playurl"
   ]
  },
  {
   "cell_type": "code",
   "execution_count": null,
   "metadata": {},
   "outputs": [],
   "source": [
    "cap = cv2.VideoCapture(playurl)\n",
    "while True:\n",
    "    ret, frame = cap.read()\n",
    "    if frame is not None:\n",
    "        cv2.imshow(\"frame\", frame)\n",
    "        if cv2.waitKey(22) & 0xFF == ord('q'):\n",
    "\t\t\tbreak\n",
    "    else:\n",
    "        break"
   ]
  },
  {
   "cell_type": "code",
   "execution_count": null,
   "metadata": {},
   "outputs": [],
   "source": []
  }
 ],
 "metadata": {
  "kernelspec": {
   "display_name": "Python 3",
   "language": "python",
   "name": "python3"
  },
  "language_info": {
   "codemirror_mode": {
    "name": "ipython",
    "version": 3
   },
   "file_extension": ".py",
   "mimetype": "text/x-python",
   "name": "python",
   "nbconvert_exporter": "python",
   "pygments_lexer": "ipython3",
   "version": "3.8.5"
  }
 },
 "nbformat": 4,
 "nbformat_minor": 4
}
