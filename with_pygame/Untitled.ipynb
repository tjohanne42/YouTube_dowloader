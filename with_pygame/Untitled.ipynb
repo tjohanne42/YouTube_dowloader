{
 "cells": [
  {
   "cell_type": "code",
   "execution_count": 1,
   "metadata": {},
   "outputs": [],
   "source": [
    "import cv2"
   ]
  },
  {
   "cell_type": "code",
   "execution_count": 3,
   "metadata": {},
   "outputs": [
    {
     "output_type": "stream",
     "name": "stdout",
     "text": [
      "open\n"
     ]
    }
   ],
   "source": [
    "cap = cv2.VideoCapture(\"video/vidAttack on Titan Opening 6  Final Season # My War.mp4\")\n",
    "if not cap.isOpened():\n",
    "    print(\"not open\")\n",
    "else:\n",
    "    print(\"open\")\n",
    "# while True:\n",
    "#     ret, frame = cap.read()\n",
    "#     if frame is not None:\n",
    "#         cv2.imshow(\"frame\", frame)\n",
    "#         if cv2.waitKey(22) & 0xFF == ord('q'):\n",
    "#             break\n",
    "#     else:\n",
    "#         break"
   ]
  },
  {
   "cell_type": "code",
   "execution_count": null,
   "metadata": {},
   "outputs": [],
   "source": [
    "my_str = \"vidAttack on Titan Opening 6 — Final Season # My War\"\n"
   ]
  }
 ],
 "metadata": {
  "kernelspec": {
   "display_name": "Python 3",
   "language": "python",
   "name": "python3"
  },
  "language_info": {
   "codemirror_mode": {
    "name": "ipython",
    "version": 3
   },
   "file_extension": ".py",
   "mimetype": "text/x-python",
   "name": "python",
   "nbconvert_exporter": "python",
   "pygments_lexer": "ipython3",
   "version": "3.9.2-final"
  }
 },
 "nbformat": 4,
 "nbformat_minor": 4
}